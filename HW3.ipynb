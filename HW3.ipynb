{
 "cells": [
  {
   "cell_type": "markdown",
   "metadata": {},
   "source": [
    "Q1"
   ]
  },
  {
   "cell_type": "code",
   "execution_count": 2,
   "metadata": {},
   "outputs": [
    {
     "name": "stderr",
     "output_type": "stream",
     "text": [
      "Using TensorFlow backend.\n"
     ]
    }
   ],
   "source": [
    "import numpy as np\n",
    "import pandas as pd\n",
    "from matplotlib import pyplot as plt\n",
    "from keras.models import Sequential, Model\n",
    "from keras.layers import Dense, Dropout, Activation, Flatten, Input, Conv2D, MaxPooling2D, UpSampling2D\n",
    "from keras.utils import np_utils\n",
    "from keras.datasets import fashion_mnist\n",
    "from keras.optimizers import SGD"
   ]
  },
  {
   "cell_type": "code",
   "execution_count": 3,
   "metadata": {},
   "outputs": [
    {
     "name": "stdout",
     "output_type": "stream",
     "text": [
      "Downloading data from http://fashion-mnist.s3-website.eu-central-1.amazonaws.com/train-labels-idx1-ubyte.gz\n",
      "32768/29515 [=================================] - 0s 8us/step\n",
      "Downloading data from http://fashion-mnist.s3-website.eu-central-1.amazonaws.com/train-images-idx3-ubyte.gz\n",
      "26427392/26421880 [==============================] - 8s 0us/step\n",
      "Downloading data from http://fashion-mnist.s3-website.eu-central-1.amazonaws.com/t10k-labels-idx1-ubyte.gz\n",
      "8192/5148 [===============================================] - 0s 0us/step\n",
      "Downloading data from http://fashion-mnist.s3-website.eu-central-1.amazonaws.com/t10k-images-idx3-ubyte.gz\n",
      "4423680/4422102 [==============================] - 3s 1us/step\n",
      "(60000, 28, 28)\n",
      "(60000,)\n"
     ]
    }
   ],
   "source": [
    "(x_train, y_train), (x_test, y_test) = fashion_mnist.load_data()\n",
    "print(x_train.shape)\n",
    "print(y_train.shape)"
   ]
  },
  {
   "cell_type": "code",
   "execution_count": 4,
   "metadata": {},
   "outputs": [
    {
     "name": "stdout",
     "output_type": "stream",
     "text": [
      "(60000, 28, 28, 1)\n",
      "(10000, 28, 28, 1)\n"
     ]
    }
   ],
   "source": [
    "x_train = x_train.astype('float32') / 255.\n",
    "x_test = x_test.astype('float32') / 255.\n",
    "x_train = np.reshape(x_train, (len(x_train), 28, 28, 1))  \n",
    "x_test = np.reshape(x_test, (len(x_test), 28, 28, 1))  \n",
    "print(x_train.shape)\n",
    "print(x_test.shape)"
   ]
  },
  {
   "cell_type": "code",
   "execution_count": 5,
   "metadata": {},
   "outputs": [
    {
     "name": "stdout",
     "output_type": "stream",
     "text": [
      "WARNING:tensorflow:From C:\\Users\\Administrator.DESKTOP-72444VQ\\Anaconda3\\lib\\site-packages\\keras\\backend\\tensorflow_backend.py:74: The name tf.get_default_graph is deprecated. Please use tf.compat.v1.get_default_graph instead.\n",
      "\n",
      "WARNING:tensorflow:From C:\\Users\\Administrator.DESKTOP-72444VQ\\Anaconda3\\lib\\site-packages\\keras\\backend\\tensorflow_backend.py:517: The name tf.placeholder is deprecated. Please use tf.compat.v1.placeholder instead.\n",
      "\n",
      "WARNING:tensorflow:From C:\\Users\\Administrator.DESKTOP-72444VQ\\Anaconda3\\lib\\site-packages\\keras\\backend\\tensorflow_backend.py:4138: The name tf.random_uniform is deprecated. Please use tf.random.uniform instead.\n",
      "\n",
      "(?, 28, 28, 16)\n",
      "WARNING:tensorflow:From C:\\Users\\Administrator.DESKTOP-72444VQ\\Anaconda3\\lib\\site-packages\\keras\\backend\\tensorflow_backend.py:3976: The name tf.nn.max_pool is deprecated. Please use tf.nn.max_pool2d instead.\n",
      "\n",
      "(?, 14, 14, 16)\n",
      "(?, 14, 14, 8)\n",
      "WARNING:tensorflow:From C:\\Users\\Administrator.DESKTOP-72444VQ\\Anaconda3\\lib\\site-packages\\keras\\backend\\tensorflow_backend.py:2018: The name tf.image.resize_nearest_neighbor is deprecated. Please use tf.compat.v1.image.resize_nearest_neighbor instead.\n",
      "\n",
      "(?, 28, 28, 8)\n",
      "(?, 28, 28, 1)\n",
      "WARNING:tensorflow:From C:\\Users\\Administrator.DESKTOP-72444VQ\\Anaconda3\\lib\\site-packages\\keras\\optimizers.py:790: The name tf.train.Optimizer is deprecated. Please use tf.compat.v1.train.Optimizer instead.\n",
      "\n",
      "WARNING:tensorflow:From C:\\Users\\Administrator.DESKTOP-72444VQ\\Anaconda3\\lib\\site-packages\\keras\\backend\\tensorflow_backend.py:3376: The name tf.log is deprecated. Please use tf.math.log instead.\n",
      "\n",
      "WARNING:tensorflow:From C:\\Users\\Administrator.DESKTOP-72444VQ\\Anaconda3\\lib\\site-packages\\tensorflow\\python\\ops\\nn_impl.py:180: add_dispatch_support.<locals>.wrapper (from tensorflow.python.ops.array_ops) is deprecated and will be removed in a future version.\n",
      "Instructions for updating:\n",
      "Use tf.where in 2.0, which has the same broadcast rule as np.where\n"
     ]
    }
   ],
   "source": [
    "input_img = Input(shape=(28, 28, 1))  \n",
    "\n",
    "x = Conv2D(16, (5, 5), activation='relu', padding='same')(input_img)\n",
    "print(x.shape)\n",
    "encoded = MaxPooling2D((2, 2), padding='same')(x)\n",
    "print(encoded.shape)\n",
    "\n",
    "x = Conv2D(8, (5, 5), activation='relu', padding='same')(encoded)\n",
    "print(x.shape)\n",
    "x = UpSampling2D((2, 2))(x)\n",
    "print(x.shape)\n",
    "decoded = Conv2D(1, (7, 7), activation='sigmoid', padding='same')(x)\n",
    "print(decoded.shape)\n",
    "\n",
    "autoencoder = Model(input_img, decoded)\n",
    "autoencoder.compile(optimizer='adadelta', loss='binary_crossentropy')"
   ]
  },
  {
   "cell_type": "code",
   "execution_count": 6,
   "metadata": {},
   "outputs": [
    {
     "name": "stdout",
     "output_type": "stream",
     "text": [
      "WARNING:tensorflow:From C:\\Users\\Administrator.DESKTOP-72444VQ\\Anaconda3\\lib\\site-packages\\keras\\backend\\tensorflow_backend.py:986: The name tf.assign_add is deprecated. Please use tf.compat.v1.assign_add instead.\n",
      "\n",
      "Train on 60000 samples, validate on 10000 samples\n",
      "Epoch 1/10\n",
      "60000/60000 [==============================] - 41s 679us/step - loss: 0.3332 - val_loss: 0.2929\n",
      "Epoch 2/10\n",
      "60000/60000 [==============================] - 40s 660us/step - loss: 0.2849 - val_loss: 0.2824\n",
      "Epoch 3/10\n",
      "60000/60000 [==============================] - 40s 662us/step - loss: 0.2760 - val_loss: 0.2755\n",
      "Epoch 4/10\n",
      "60000/60000 [==============================] - 39s 658us/step - loss: 0.2711 - val_loss: 0.2722\n",
      "Epoch 5/10\n",
      "60000/60000 [==============================] - 40s 661us/step - loss: 0.2679 - val_loss: 0.2680\n",
      "Epoch 6/10\n",
      "60000/60000 [==============================] - 40s 660us/step - loss: 0.2655 - val_loss: 0.2652\n",
      "Epoch 7/10\n",
      "60000/60000 [==============================] - 41s 680us/step - loss: 0.2640 - val_loss: 0.2655\n",
      "Epoch 8/10\n",
      "60000/60000 [==============================] - 42s 708us/step - loss: 0.2629 - val_loss: 0.2639\n",
      "Epoch 9/10\n",
      "60000/60000 [==============================] - 41s 686us/step - loss: 0.2619 - val_loss: 0.2633\n",
      "Epoch 10/10\n",
      "60000/60000 [==============================] - 40s 662us/step - loss: 0.2611 - val_loss: 0.2618\n"
     ]
    },
    {
     "data": {
      "text/plain": [
       "<keras.callbacks.History at 0x14a597e2908>"
      ]
     },
     "execution_count": 6,
     "metadata": {},
     "output_type": "execute_result"
    }
   ],
   "source": [
    "autoencoder.fit(x_train, x_train,\n",
    "                epochs=10,\n",
    "                batch_size=256,\n",
    "                shuffle=True,\n",
    "                validation_data=(x_test, x_test))"
   ]
  },
  {
   "cell_type": "code",
   "execution_count": 7,
   "metadata": {},
   "outputs": [
    {
     "data": {
      "image/png": "[encoded data removed]",
      "text/plain": [
       "<Figure size 1440x288 with 20 Axes>"
      ]
     },
     "metadata": {
      "needs_background": "light"
     },
     "output_type": "display_data"
    }
   ],
   "source": [
    "decoded_imgs = autoencoder.predict(x_test)\n",
    "\n",
    "n = 10\n",
    "plt.figure(figsize=(20, 4))\n",
    "for i in range(n):\n",
    "    ax = plt.subplot(2, n, i+1)\n",
    "    plt.imshow(x_test[i].reshape(28, 28))\n",
    "    plt.gray()\n",
    "    ax.get_xaxis().set_visible(False)\n",
    "    ax.get_yaxis().set_visible(False)\n",
    "\n",
    "    ax = plt.subplot(2, n, i+n+1)\n",
    "    plt.imshow(decoded_imgs[i].reshape(28, 28))\n",
    "    plt.gray()\n",
    "    ax.get_xaxis().set_visible(False)\n",
    "    ax.get_yaxis().set_visible(False)\n",
    "plt.show()"
   ]
  },
  {
   "cell_type": "markdown",
   "metadata": {},
   "source": [
    "Q2"
   ]
  },
  {
   "cell_type": "markdown",
   "metadata": {},
   "source": [
    "2.1"
   ]
  },
  {
   "cell_type": "markdown",
   "metadata": {},
   "source": [
    "from keras.models import Sequential\n",
    "from keras.layers import Dense, Activation\n",
    "from keras.layers import Input, Dense, Conv2D, MaxPooling2D, UpSampling2D, Reshape, LeakyReLU"
   ]
  },
  {
   "cell_type": "code",
   "execution_count": 10,
   "metadata": {},
   "outputs": [],
   "source": [
    "from keras.models import Sequential\n",
    "from keras.layers import Dense, Activation\n",
    "import keras\n",
    "from keras.layers import Input, Dense, Conv2D, MaxPooling2D, UpSampling2D, Reshape, LeakyReLU"
   ]
  },
  {
   "cell_type": "code",
   "execution_count": 11,
   "metadata": {},
   "outputs": [],
   "source": [
    "(x_train, y_train), (x_test, y_test) = fashion_mnist.load_data()\n",
    "x_train = x_train.astype('float32') / 255.\n",
    "x_test = x_test.astype('float32') / 255.\n",
    "x_train = np.reshape(x_train, (len(x_train), 28, 28, 1))\n",
    "x_test = np.reshape(x_test, (len(x_test), 28, 28, 1))\n",
    "\n",
    "y_train = keras.utils.to_categorical(y_train, num_classes=10)\n",
    "y_test = keras.utils.to_categorical(y_test, num_classes=10)"
   ]
  },
  {
   "cell_type": "code",
   "execution_count": 12,
   "metadata": {},
   "outputs": [
    {
     "name": "stdout",
     "output_type": "stream",
     "text": [
      "WARNING:tensorflow:From C:\\Users\\Administrator.DESKTOP-72444VQ\\Anaconda3\\lib\\site-packages\\keras\\backend\\tensorflow_backend.py:3445: calling dropout (from tensorflow.python.ops.nn_ops) with keep_prob is deprecated and will be removed in a future version.\n",
      "Instructions for updating:\n",
      "Please use `rate` instead of `keep_prob`. Rate should be set to `rate = 1 - keep_prob`.\n"
     ]
    }
   ],
   "source": [
    "model = Sequential()\n",
    "model.add(Conv2D(32,kernel_size = (3,3), activation = 'relu', input_shape = (28,28,1)))\n",
    "model.add(Conv2D(32,kernel_size = (3,3), activation = 'relu'))\n",
    "model.add(MaxPooling2D(pool_size = (2,2)))\n",
    "model.add(Dropout(0.25))\n",
    "\n",
    "model.add(Conv2D(64, (3,3), activation = 'relu'))\n",
    "model.add(Conv2D(64, (3,3), activation = 'relu'))\n",
    "model.add(MaxPooling2D(pool_size = (2,2)))\n",
    "model.add(Dropout(0.25))\n",
    "model.add(Flatten()) \n",
    "model.add(Dense(128, activation = 'relu')) \n",
    "model.add(Dropout(0.25))\n",
    "model.add(Dense(10, activation = 'softmax'))\n",
    "\n",
    "model.compile(optimizer='adadelta',\n",
    "              loss='categorical_crossentropy',\n",
    "              metrics=['accuracy'])"
   ]
  },
  {
   "cell_type": "code",
   "execution_count": 13,
   "metadata": {},
   "outputs": [
    {
     "name": "stdout",
     "output_type": "stream",
     "text": [
      "Train on 60000 samples, validate on 10000 samples\n",
      "Epoch 1/5\n",
      "60000/60000 [==============================] - 79s 1ms/step - loss: 0.5300 - acc: 0.8048 - val_loss: 0.3568 - val_acc: 0.8665\n",
      "Epoch 2/5\n",
      "60000/60000 [==============================] - 72s 1ms/step - loss: 0.3384 - acc: 0.8796 - val_loss: 0.2883 - val_acc: 0.8936\n",
      "Epoch 3/5\n",
      "60000/60000 [==============================] - 73s 1ms/step - loss: 0.2962 - acc: 0.8920 - val_loss: 0.2698 - val_acc: 0.9030\n",
      "Epoch 4/5\n",
      "60000/60000 [==============================] - 72s 1ms/step - loss: 0.2770 - acc: 0.9011 - val_loss: 0.2581 - val_acc: 0.9076\n",
      "Epoch 5/5\n",
      "60000/60000 [==============================] - 73s 1ms/step - loss: 0.2575 - acc: 0.9081 - val_loss: 0.2625 - val_acc: 0.9062\n"
     ]
    }
   ],
   "source": [
    "history_dCNN = model.fit(x_train, y_train, \n",
    "          epochs=5, \n",
    "          batch_size=32,\n",
    "          validation_data = (x_test, y_test))"
   ]
  },
  {
   "cell_type": "code",
   "execution_count": 14,
   "metadata": {},
   "outputs": [
    {
     "name": "stdout",
     "output_type": "stream",
     "text": [
      "10000/10000 [==============================] - 3s 336us/step\n",
      "[0.2625086746454239, 0.9062]\n",
      "60000/60000 [==============================] - 22s 366us/step\n",
      "[0.21432073489427567, 0.92315]\n"
     ]
    }
   ],
   "source": [
    "print(model.evaluate(x_test, y_test))\n",
    "print(model.evaluate(x_train, y_train))"
   ]
  },
  {
   "cell_type": "code",
   "execution_count": 15,
   "metadata": {},
   "outputs": [
    {
     "data": {
      "text/plain": [
       "<matplotlib.legend.Legend at 0x14a00ab7198>"
      ]
     },
     "execution_count": 15,
     "metadata": {},
     "output_type": "execute_result"
    },
    {
     "data": {
      "image/png": "[encoded data removed]",
      "text/plain": [
       "<Figure size 432x288 with 1 Axes>"
      ]
     },
     "metadata": {
      "needs_background": "light"
     },
     "output_type": "display_data"
    }
   ],
   "source": [
    "plt.plot(history_dCNN.history['loss'])\n",
    "plt.plot(history_dCNN.history['val_loss'])\n",
    "plt.legend(['train', 'test'], loc='lower left')"
   ]
  },
  {
   "cell_type": "markdown",
   "metadata": {},
   "source": [
    "2.2"
   ]
  },
  {
   "cell_type": "code",
   "execution_count": 23,
   "metadata": {},
   "outputs": [],
   "source": [
    "from keras.applications import VGG16\n",
    "import skimage\n",
    "from skimage.transform import resize\n",
    "from tqdm import tqdm\n",
    "from keras.models import Sequential\n",
    "\n",
    "from keras import backend as K\n",
    "from keras.layers import Lambda, Input\n",
    "from keras.models import Model\n",
    "import cv2"
   ]
  },
  {
   "cell_type": "code",
   "execution_count": 24,
   "metadata": {},
   "outputs": [],
   "source": [
    "x_train1 = np.asarray([cv2.resize(i, (32,32)) for i in x_train])\n",
    "x_test1 = np.asarray([cv2.resize(i, (32,32)) for i in x_test])"
   ]
  },
  {
   "cell_type": "code",
   "execution_count": 25,
   "metadata": {},
   "outputs": [],
   "source": [
    "x_train1 = x_train1.reshape(x_train1.shape[0], 32, 32,1)\n",
    "x_test1 = x_test1.reshape(x_test1.shape[0], 32, 32, 1)"
   ]
  },
  {
   "cell_type": "code",
   "execution_count": 26,
   "metadata": {},
   "outputs": [],
   "source": [
    "x_train1 = np.asarray([np.squeeze(np.stack((i, )*3, axis = -1)) for i in x_train1])\n",
    "x_test1 = np.asarray([np.squeeze(np.stack((i, )*3, axis = -1)) for i in x_test1])"
   ]
  },
  {
   "cell_type": "code",
   "execution_count": null,
   "metadata": {},
   "outputs": [
    {
     "name": "stdout",
     "output_type": "stream",
     "text": [
      "Downloading data from https://github.com/fchollet/deep-learning-models/releases/download/v0.1/vgg16_weights_tf_dim_ordering_tf_kernels_notop.h5\n"
     ]
    },
    {
     "name": "stdout",
     "output_type": "stream",
     "text": [
      "11640832/58889256 [====>.........................] - ETA: 1:17:1 - ETA: 45:46  - ETA: 30:5 - ETA: 28:5 - ETA: 24:2 - ETA: 18:3 - ETA: 20:0 - ETA: 19:1 - ETA: 19:1 - ETA: 22:4 - ETA: 19:5 - ETA: 21:2 - ETA: 21:1 - ETA: 21:4 - ETA: 20:5 - ETA: 21:5 - ETA: 21:0 - ETA: 20:0 - ETA: 21:2 - ETA: 22:3 - ETA: 21:2 - ETA: 22:2 - ETA: 22:2 - ETA: 21:0 - ETA: 21:2 - ETA: 20:5 - ETA: 21:5 - ETA: 21:2 - ETA: 21:2 - ETA: 21:1 - ETA: 20:5 - ETA: 20:5 - ETA: 20:5 - ETA: 21:1 - ETA: 21:3 - ETA: 21:4 - ETA: 21:3 - ETA: 21:2 - ETA: 21:3 - ETA: 22:0 - ETA: 21:4 - ETA: 21:5 - ETA: 22:0 - ETA: 21:5 - ETA: 22:0 - ETA: 21:5 - ETA: 22:0 - ETA: 23:2 - ETA: 22:2 - ETA: 22:3 - ETA: 22:2 - ETA: 22:3 - ETA: 22:2 - ETA: 22:3 - ETA: 22:3 - ETA: 22:2 - ETA: 22:1 - ETA: 22:4 - ETA: 22:3 - ETA: 22:5 - ETA: 22:3 - ETA: 22:4 - ETA: 23:0 - ETA: 23:1 - ETA: 23:3 - ETA: 23:2 - ETA: 23:4 - ETA: 23:4 - ETA: 23:4 - ETA: 23:4 - ETA: 24:1 - ETA: 24:1 - ETA: 24:0 - ETA: 24:0 - ETA: 24:1 - ETA: 24:2 - ETA: 24:1 - ETA: 24:3 - ETA: 24:3 - ETA: 24:4 - ETA: 24:5 - ETA: 24:4 - ETA: 24:4 - ETA: 24:5 - ETA: 24:5 - ETA: 25:0 - ETA: 25:1 - ETA: 25:3 - ETA: 25:4 - ETA: 25:4 - ETA: 25:5 - ETA: 25:4 - ETA: 26:0 - ETA: 26:4 - ETA: 26:3 - ETA: 26:4 - ETA: 27:3 - ETA: 27:2 - ETA: 27:3 - ETA: 27:2 - ETA: 27:3 - ETA: 27:5 - ETA: 28:1 - ETA: 28:0 - ETA: 28:0 - ETA: 28:1 - ETA: 28:0 - ETA: 28:2 - ETA: 28:1 - ETA: 28:1 - ETA: 28:2 - ETA: 28:2 - ETA: 28:3 - ETA: 28:3 - ETA: 28:4 - ETA: 29:0 - ETA: 29:0 - ETA: 29:1 - ETA: 29:2 - ETA: 29:3 - ETA: 29:4 - ETA: 29:4 - ETA: 30:0 - ETA: 29:5 - ETA: 29:5 - ETA: 30:1 - ETA: 30:0 - ETA: 30:1 - ETA: 30:1 - ETA: 30:2 - ETA: 30:2 - ETA: 30:2 - ETA: 30:2 - ETA: 30:4 - ETA: 30:5 - ETA: 31:0 - ETA: 31:3 - ETA: 31:4 - ETA: 31:3 - ETA: 31:4 - ETA: 31:4 - ETA: 31:4 - ETA: 31:5 - ETA: 31:5 - ETA: 32:0 - ETA: 32:0 - ETA: 32:0 - ETA: 32:1 - ETA: 32:2 - ETA: 32:2 - ETA: 32:2 - ETA: 32:1 - ETA: 32:1 - ETA: 32:2 - ETA: 32:2 - ETA: 32:4 - ETA: 32:2 - ETA: 32:2 - ETA: 32:3 - ETA: 32:3 - ETA: 32:3 - ETA: 32:3 - ETA: 32:4 - ETA: 32:4 - ETA: 32:5 - ETA: 32:4 - ETA: 32:5 - ETA: 32:5 - ETA: 33:1 - ETA: 33:1 - ETA: 33:1 - ETA: 33:1 - ETA: 33:2 - ETA: 33:3 - ETA: 33:3 - ETA: 33:4 - ETA: 33:3 - ETA: 33:3 - ETA: 33:4 - ETA: 33:4 - ETA: 33:4 - ETA: 33:5 - ETA: 34:0 - ETA: 34:0 - ETA: 34:1 - ETA: 34:1 - ETA: 34:1 - ETA: 34:2 - ETA: 34:3 - ETA: 34:3 - ETA: 34:3 - ETA: 34:4 - ETA: 34:4 - ETA: 34:5 - ETA: 35:0 - ETA: 35:0 - ETA: 35:1 - ETA: 35:0 - ETA: 35:0 - ETA: 35:1 - ETA: 35:2 - ETA: 35:0 - ETA: 35:1 - ETA: 35:0 - ETA: 35:1 - ETA: 35:1 - ETA: 35:1 - ETA: 35:1 - ETA: 35:2 - ETA: 35:2 - ETA: 35:2 - ETA: 35:3 - ETA: 35:3 - ETA: 35:4 - ETA: 35:3 - ETA: 35:4 - ETA: 35:4 - ETA: 35:4 - ETA: 35:5 - ETA: 36:1 - ETA: 36:0 - ETA: 36:0 - ETA: 36:0 - ETA: 36:1 - ETA: 36:1 - ETA: 36:2 - ETA: 36:2 - ETA: 36:5 - ETA: 36:4 - ETA: 37:0 - ETA: 37:0 - ETA: 37:1 - ETA: 37:1 - ETA: 37:2 - ETA: 37:3 - ETA: 37:4 - ETA: 37:4 - ETA: 37:5 - ETA: 37:5 - ETA: 37:5 - ETA: 37:5 - ETA: 38:0 - ETA: 38:1 - ETA: 38:1 - ETA: 38:2 - ETA: 38:2 - ETA: 38:3 - ETA: 38:5 - ETA: 38:4 - ETA: 39:4 - ETA: 39:5 - ETA: 40:0 - ETA: 40:0 - ETA: 40:1 - ETA: 40:2 - ETA: 40:3 - ETA: 40:3 - ETA: 40:3 - ETA: 40:4 - ETA: 40:4 - ETA: 40:5 - ETA: 40:5 - ETA: 40:5 - ETA: 41:0 - ETA: 41:1 - ETA: 41:1 - ETA: 41:1 - ETA: 41:2 - ETA: 41:3 - ETA: 41:3 - ETA: 41:4 - ETA: 41:4 - ETA: 41:5 - ETA: 42:0 - ETA: 42:0 - ETA: 42:0 - ETA: 42:1 - ETA: 42:1 - ETA: 42:3 - ETA: 42:3 - ETA: 42:3 - ETA: 42:4 - ETA: 42:4 - ETA: 42:4 - ETA: 42:4 - ETA: 42:5 - ETA: 43:1 - ETA: 43:0 - ETA: 43:1 - ETA: 43:2 - ETA: 43:2 - ETA: 43:3 - ETA: 43:3 - ETA: 43:3 - ETA: 43:5 - ETA: 44:0 - ETA: 44:2 - ETA: 44:1 - ETA: 44:2 - ETA: 44:2 - ETA: 44:3 - ETA: 44:4 - ETA: 44:3 - ETA: 44:4 - ETA: 44:5 - ETA: 45:0 - ETA: 45:1 - ETA: 45:2 - ETA: 45:2 - ETA: 45:2 - ETA: 45:2 - ETA: 45:3 - ETA: 45:3 - ETA: 45:4 - ETA: 45:3 - ETA: 45:3 - ETA: 45:3 - ETA: 45:3 - ETA: 45:3 - ETA: 45:2 - ETA: 45:2 - ETA: 45:2 - ETA: 45:2 - ETA: 45:2 - ETA: 45:2 - ETA: 45:2 - ETA: 45:2 - ETA: 45:2 - ETA: 45:2 - ETA: 45:2 - ETA: 45:2 - ETA: 45:2 - ETA: 45:2 - ETA: 45:2 - ETA: 45:2 - ETA: 45:2 - ETA: 45:2 - ETA: 45:2 - ETA: 45:2 - ETA: 45:2 - ETA: 45:2 - ETA: 45:2 - ETA: 45:2 - ETA: 45:2 - ETA: 45:2 - ETA: 45:2 - ETA: 45:3 - ETA: 45:3 - ETA: 45:3 - ETA: 45:4 - ETA: 45:3 - ETA: 45:4 - ETA: 45:4 - ETA: 45:4 - ETA: 45:4 - ETA: 45:4 - ETA: 45:5 - ETA: 45:5 - ETA: 45:5 - ETA: 45:5 - ETA: 45:5 - ETA: 45:5 - ETA: 45:5 - ETA: 45:5 - ETA: 45:4 - ETA: 45:5 - ETA: 45:5 - ETA: 45:5 - ETA: 45:5 - ETA: 45:5 - ETA: 45:5 - ETA: 45:5 - ETA: 45:5 - ETA: 46:0 - ETA: 46:0 - ETA: 46:0 - ETA: 46:0 - ETA: 46:0 - ETA: 46:0 - ETA: 46:2 - ETA: 46:1 - ETA: 46:1 - ETA: 46:2 - ETA: 46:2 - ETA: 46:3 - ETA: 46:3 - ETA: 46:3 - ETA: 46:3 - ETA: 46:5 - ETA: 46:5 - ETA: 46:5 - ETA: 46:5 - ETA: 46:5 - ETA: 47:0 - ETA: 47:1 - ETA: 47:1 - ETA: 47:1 - ETA: 47:1 - ETA: 47:2 - ETA: 47:2 - ETA: 47:3 - ETA: 47:4 - ETA: 47:5 - ETA: 47:5 - ETA: 47:5 - ETA: 47:5 - ETA: 48:0 - ETA: 48:0 - ETA: 47:5 - ETA: 48:0 - ETA: 48:1 - ETA: 48:0 - ETA: 48:0 - ETA: 48:0 - ETA: 48:0 - ETA: 48:1 - ETA: 48:1 - ETA: 48:1 - ETA: 48:1 - ETA: 48:2 - ETA: 48:2 - ETA: 48:3 - ETA: 48:2 - ETA: 48:3 - ETA: 48:3 - ETA: 48:3 - ETA: 48:3 - ETA: 48:3 - ETA: 48:4 - ETA: 48:4 - ETA: 48:4 - ETA: 48:4 - ETA: 48:4 - ETA: 48:4 - ETA: 48:3 - ETA: 48:3 - ETA: 48:3 - ETA: 48:3 - ETA: 48:3 - ETA: 48:3 - ETA: 48:3 - ETA: 48:3 - ETA: 48:3 - ETA: 48:3 - ETA: 48:3 - ETA: 48:3 - ETA: 48:3 - ETA: 48:3 - ETA: 48:3 - ETA: 48:4 - ETA: 48:3 - ETA: 48:3 - ETA: 48:4 - ETA: 48:3 - ETA: 48:4 - ETA: 48:4 - ETA: 48:4 - ETA: 48:4 - ETA: 48:4 - ETA: 48:4 - ETA: 48:4 - ETA: 48:5 - ETA: 48:4 - ETA: 48:5 - ETA: 48:5 - ETA: 48:5 - ETA: 49:0 - ETA: 49:0 - ETA: 49:0 - ETA: 49:0 - ETA: 49:0 - ETA: 49:0 - ETA: 49:0 - ETA: 49:0 - ETA: 49:0 - ETA: 49:0 - ETA: 48:5 - ETA: 48:5 - ETA: 48:5 - ETA: 48:5 - ETA: 48:5 - ETA: 48:5 - ETA: 48:5 - ETA: 48:5 - ETA: 48:5 - ETA: 48:5 - ETA: 48:5 - ETA: 48:5 - ETA: 48:5 - ETA: 48:5 - ETA: 48:5 - ETA: 48:5 - ETA: 48:5 - ETA: 48:5 - ETA: 48:5 - ETA: 48:5 - ETA: 48:5 - ETA: 48:4 - ETA: 48:4 - ETA: 48:4 - ETA: 48:4 - ETA: 48:4 - ETA: 48:4 - ETA: 48:3 - ETA: 48:3 - ETA: 48:3 - ETA: 48:2 - ETA: 48:2 - ETA: 48:1 - ETA: 48:1 - ETA: 48:1 - ETA: 48:1 - ETA: 48:0 - ETA: 48:0 - ETA: 48:0 - ETA: 48:0 - ETA: 48:0 - ETA: 48:0 - ETA: 47:5 - ETA: 47:5 - ETA: 47:5 - ETA: 47:5 - ETA: 47:4 - ETA: 47:5 - ETA: 47:4 - ETA: 47:3 - ETA: 47:3 - ETA: 47:4 - ETA: 47:3 - ETA: 47:3 - ETA: 47:3 - ETA: 47:3 - ETA: 47:2 - ETA: 47:3 - ETA: 47:3 - ETA: 47:3 - ETA: 47:3 - ETA: 47:3 - ETA: 47:3 - ETA: 47:3 - ETA: 47:3 - ETA: 47:3 - ETA: 47:3 - ETA: 47:3 - ETA: 47:3 - ETA: 47:3 - ETA: 47:3 - ETA: 47:3 - ETA: 47:2 - ETA: 47:3 - ETA: 47:3 - ETA: 47:3 - ETA: 47:3 - ETA: 47:3 - ETA: 47:3 - ETA: 47:3 - ETA: 47:3 - ETA: 47:3 - ETA: 47:3 - ETA: 47:3 - ETA: 47:3 - ETA: 47:3 - ETA: 47:3 - ETA: 47:3 - ETA: 47:3 - ETA: 47:3 - ETA: 47:4 - ETA: 47:3 - ETA: 47:4 - ETA: 47:4 - ETA: 47:5 - ETA: 47:5 - ETA: 48:0 - ETA: 48:0 - ETA: 48:0 - ETA: 48:1 - ETA: 48:1 - ETA: 48:1 - ETA: 48:2 - ETA: 48:2 - ETA: 48:3 - ETA: 48:3 - ETA: 48:4 - ETA: 48:4 - ETA: 48:3 - ETA: 48:3 - ETA: 48:4 - ETA: 48:4 - ETA: 48:4 - ETA: 48:4 - ETA: 48:4 - ETA: 48:4 - ETA: 48:4 - ETA: 49:1 - ETA: 49:1 - ETA: 49:1 - ETA: 49:1 - ETA: 49:1 - ETA: 49:1 - ETA: 49:1 - ETA: 49:1 - ETA: 49:1 - ETA: 49:1 - ETA: 49:1 - ETA: 49:1 - ETA: 49:1 - ETA: 49:0 - ETA: 49:0 - ETA: 49:1 - ETA: 49:1 - ETA: 49:1 - ETA: 49:2 - ETA: 49:2 - ETA: 49:2 - ETA: 49:2 - ETA: 49:2 - ETA: 49:2 - ETA: 49:2 - ETA: 49:3 - ETA: 49:3 - ETA: 49:3 - ETA: 49:3 - ETA: 49:3 - ETA: 49:3 - ETA: 49:3 - ETA: 49:3 - ETA: 49:3 - ETA: 49:3 - ETA: 49:3 - ETA: 49:3 - ETA: 49:4 - ETA: 49:3 - ETA: 49:4 - ETA: 49:4 - ETA: 49:4 - ETA: 49:5 - ETA: 49:5 - ETA: 49:5 - ETA: 49:5 - ETA: 50:0 - ETA: 50:0 - ETA: 50:0 - ETA: 50:0 - ETA: 50:0 - ETA: 50:0 - ETA: 50:1 - ETA: 50:1 - ETA: 50:1 - ETA: 50:1 - ETA: 50:1 - ETA: 50:2 - ETA: 50:2 - ETA: 50:1 - ETA: 50:1 - ETA: 50:1 - ETA: 50:1 - ETA: 50:1 - ETA: 50:1 - ETA: 50:1 - ETA: 50:1 - ETA: 50:1 - ETA: 50:1 - ETA: 50:1 - ETA: 50:2 - ETA: 50:2 - ETA: 50:3 - ETA: 50:2 - ETA: 50:2 - ETA: 50:2 - ETA: 50:3 - ETA: 50:3 - ETA: 50:3 - ETA: 50:3 - ETA: 50:3 - ETA: 50:3 - ETA: 50:3 - ETA: 50:3 - ETA: 50:3 - ETA: 50:40"
     ]
    },
    {
     "name": "stdout",
     "output_type": "stream",
     "text": [
      "13410304/58889256 [=====>........................] - ETA: 50:4 - ETA: 50:4 - ETA: 50:5 - ETA: 50:5 - ETA: 50:5 - ETA: 50:5 - ETA: 50:4 - ETA: 50:4 - ETA: 50:4 - ETA: 50:4 - ETA: 50:4 - ETA: 50:4 - ETA: 50:4 - ETA: 50:4 - ETA: 50:4 - ETA: 50:4 - ETA: 50:4 - ETA: 50:4 - ETA: 50:3 - ETA: 50:4 - ETA: 50:3 - ETA: 50:3 - ETA: 50:3 - ETA: 50:3 - ETA: 50:3 - ETA: 50:3 - ETA: 50:3 - ETA: 50:3 - ETA: 50:3 - ETA: 50:3 - ETA: 50:3 - ETA: 50:3 - ETA: 50:3 - ETA: 50:3 - ETA: 50:3 - ETA: 50:3 - ETA: 50:3 - ETA: 50:3 - ETA: 50:3 - ETA: 50:3 - ETA: 50:3 - ETA: 50:3 - ETA: 50:3 - ETA: 50:3 - ETA: 50:4 - ETA: 50:4 - ETA: 50:4 - ETA: 50:4 - ETA: 50:5 - ETA: 50:5 - ETA: 50:4 - ETA: 50:5 - ETA: 50:5 - ETA: 50:5 - ETA: 50:5 - ETA: 50:5 - ETA: 50:5 - ETA: 50:5 - ETA: 50:5 - ETA: 50:5 - ETA: 50:5 - ETA: 50:5 - ETA: 51:0 - ETA: 51:0 - ETA: 51:0 - ETA: 51:0 - ETA: 51:1 - ETA: 51:1 - ETA: 51:1 - ETA: 51:2 - ETA: 51:2 - ETA: 51:1 - ETA: 51:2 - ETA: 51:1 - ETA: 51:2 - ETA: 51:2 - ETA: 51:2 - ETA: 51:2 - ETA: 51:2 - ETA: 51:2 - ETA: 51:2 - ETA: 51:2 - ETA: 51:3 - ETA: 51:3 - ETA: 51:3 - ETA: 51:3 - ETA: 51:3 - ETA: 51:4 - ETA: 51:4 - ETA: 51:4 - ETA: 51:5 - ETA: 52:1 - ETA: 52:1 - ETA: 52:1 - ETA: 52:1 - ETA: 52:1 - ETA: 52:1 - ETA: 52:1 - ETA: 52:1 - ETA: 52:2 - ETA: 52:2 - ETA: 52:2 - ETA: 52:2 - ETA: 52:3 - ETA: 52:2 - ETA: 52:3 - ETA: 52:3 - ETA: 52:41"
     ]
    }
   ],
   "source": [
    "conv_base = VGG16(weights = \"imagenet\", include_top=False, input_shape = (32,32,3))"
   ]
  },
  {
   "cell_type": "code",
   "execution_count": null,
   "metadata": {},
   "outputs": [],
   "source": [
    "T_model = Sequential()\n",
    "T_model.add(conv_base)\n",
    "T_model.add(Flatten())\n",
    "T_model.add(Dense(256, activation=\"relu\"))\n",
    "T_model.add(Dense(10, activation=\"softmax\"))"
   ]
  },
  {
   "cell_type": "code",
   "execution_count": null,
   "metadata": {},
   "outputs": [],
   "source": [
    "conv_base.trainable = False"
   ]
  },
  {
   "cell_type": "code",
   "execution_count": null,
   "metadata": {},
   "outputs": [],
   "source": [
    "T_model.compile(loss='categorical_crossentropy', optimizer='adam',metrics=[\"accuracy\"])"
   ]
  },
  {
   "cell_type": "code",
   "execution_count": null,
   "metadata": {},
   "outputs": [],
   "source": [
    "history = T_model.fit(x_train1,y_train, \n",
    "                    epochs=10, \n",
    "                    batch_size=150,\n",
    "                    verbose = 1,\n",
    "                    validation_data = (x_test1, y_test))"
   ]
  },
  {
   "cell_type": "code",
   "execution_count": null,
   "metadata": {},
   "outputs": [],
   "source": [
    "print(T_model.evaluate(x_test1, y_test))\n",
    "print(T_model.evaluate(x_train1, y_train))"
   ]
  },
  {
   "cell_type": "code",
   "execution_count": null,
   "metadata": {},
   "outputs": [],
   "source": [
    "plt.plot(history.history['loss'])\n",
    "plt.plot(history.history['val_loss'])\n",
    "plt.legend(['train', 'test'], loc='lower left')"
   ]
  },
  {
   "cell_type": "markdown",
   "metadata": {},
   "source": [
    "Q3"
   ]
  },
  {
   "cell_type": "code",
   "execution_count": null,
   "metadata": {},
   "outputs": [],
   "source": [
    "import pandas as pd\n",
    "import nltk\n",
    "import collections\n",
    "from nltk.util import ngrams\n",
    "from nltk.tokenize import word_tokenize\n",
    "from nltk.stem.porter import PorterStemmer\n",
    "from nltk.stem import WordNetLemmatizer\n",
    "from sklearn.model_selection import train_test_split\n",
    "from keras.applications.vgg16 import preprocess_input\n",
    "from keras.layers.embeddings import Embedding\n",
    "from keras.layers import Input, Dense, Dropout, Activation, Flatten, GlobalMaxPooling1D, LSTM\n",
    "from keras.callbacks import TensorBoard\n",
    "from keras.preprocessing import sequence\n",
    "from keras.preprocessing.text import Tokenizer\n",
    "from sklearn.utils import class_weight\n",
    "from keras.layers import LSTM, Conv1D, GlobalMaxPooling1D\n",
    "import regex as re\n",
    "from nltk.corpus import stopwords\n",
    "import gensim\n",
    "from gensim.models import Word2Vec\n",
    "from tensorflow.keras.preprocessing import sequence\n",
    "\n",
    "nltk.download('stopwords')\n",
    "nltk.download('wordnet')\n",
    "nltk.download('punkt')"
   ]
  },
  {
   "cell_type": "code",
   "execution_count": null,
   "metadata": {},
   "outputs": [],
   "source": [
    "tweets = pd.read_csv('tweets_with_labels.csv', sep = '\\t')\n",
    "\n",
    "stopWords = set(stopwords.words('english'))\n",
    "stemmer = PorterStemmer()\n",
    "lemmatizer = WordNetLemmatizer()\n",
    "\n",
    "def preprocess_tweets(tweet):\n",
    "    tweet = re.sub(\"@mention\", \"\",tweet)\n",
    "    tweet = re.sub(\"{link}\", \"\",tweet)\n",
    "    tweet = re.sub(\"[^A-Za-z]\",\" \",tweet)\n",
    "    tweet = re.sub(r'\\bRT\\b', '', tweet)\n",
    "    tweet = re.sub(\"\\s+\",\" \",tweet)\n",
    "    tokens = word_tokenize(tweet)\n",
    "    words = [word for word in tokens if word not in stopWords]\n",
    "    words = [stemmer.stem(w).strip(\"'\") for w in words]\n",
    "    words = [lemmatizer.lemmatize(w, pos=\"a\") for w in words]\n",
    "    words = [word for word in words if len(word)!=1]\n",
    "    final_tweet = ' '.join(words)\n",
    "    return final_tweet\n",
    "\n",
    "new_tweet = [preprocess_tweets(x) for x in list(tweets.tweet)]\n",
    "tweets['new_tweets'] = new_tweet"
   ]
  },
  {
   "cell_type": "code",
   "execution_count": null,
   "metadata": {},
   "outputs": [],
   "source": [
    "token = [word_tokenize(x) for x in list(tweets.new_tweets)]\n",
    "\n",
    "remove_lst=[]\n",
    "for w in token:\n",
    "    remove_lst.append(len(w))\n",
    "bad_idx = [n for n,x in enumerate(remove_lst) if x == 0]\n",
    "tweets_updated = tweets.drop(bad_idx)"
   ]
  },
  {
   "cell_type": "code",
   "execution_count": null,
   "metadata": {},
   "outputs": [],
   "source": [
    "X = [word_tokenize(x) for x in list(tweets_updated['new_tweets'])]\n",
    "\n",
    "label = tweets_updated.loc[:,'k1':'k15']\n",
    "label[tweets_updated != 0] = 1\n",
    "y = label.values\n",
    "\n",
    "X_train, X_test, y_train, y_test = train_test_split(X, y, test_size=0.3, random_state=13)\n",
    "print('X_train shape: ', len(X_train))\n",
    "print('X_test shape: ', len(X_test))\n",
    "print('y_train shape: ', y_train.shape)\n",
    "print('y_test shape: ', y_test.shape)"
   ]
  },
  {
   "cell_type": "code",
   "execution_count": null,
   "metadata": {},
   "outputs": [],
   "source": [
    "X_train_padded = sequence.pad_sequences(X_train, maxlen=40, padding=\"post\", truncating=\"post\", value='_pad_',dtype=object)\n",
    "X_test_padded = sequence.pad_sequences(X_test, maxlen=40, padding=\"post\", truncating=\"post\", value='_pad_',dtype=object)\n",
    "\n",
    "train_corpus = list(tweets_updated.new_tweets)\n",
    "train_cor_tk = [word_tokenize(x) for x in train_corpus]\n",
    "corpus_padded = sequence.pad_sequences(train_cor_tk, maxlen=40,padding=\"post\", truncating=\"post\", value='_pad_',dtype=object)\n",
    "\n",
    "corpus_padded = corpus_padded.tolist()\n",
    "X_train_padded = X_train_padded.tolist()\n",
    "X_test_padded = X_test_padded.tolist("
   ]
  },
  {
   "cell_type": "code",
   "execution_count": null,
   "metadata": {},
   "outputs": [],
   "source": [
    "w2v_model = Word2Vec(corpus_padded, min_count=1, size = 20, workers=1, window=3)\n",
    "\n",
    "X_train_vec = np.empty([len(X_train), 40, 20])\n",
    "X_test_vec = np.empty([len(X_test), 40, 20])\n",
    "\n",
    "idx_train = 0\n",
    "for w in X_train_padded:\n",
    "    X_train_vec[idx_train, :, :] = w2v_model[w]\n",
    "    idx_train += 1\n",
    "\n",
    "idx_test = 0\n",
    "for w in X_test_padded:\n",
    "    X_test_vec[idx_test,:,:] = w2v_model[w]\n",
    "    idx_test += 1\n",
    "\n",
    "print('X_train_vec shape: ', X_train_vec.shape)\n",
    "print('X_test_vec shape: ', X_test_vec.shape)"
   ]
  },
  {
   "cell_type": "code",
   "execution_count": null,
   "metadata": {},
   "outputs": [],
   "source": [
    "model_rnn = Sequential()\n",
    "model_rnn.add(LSTM(128, input_shape = (40, 20)))\n",
    "model_rnn.add(Dense(128, activation = 'relu'))\n",
    "model_rnn.add(Dropout(0.2))\n",
    "model_rnn.add(Dense(64, activation = 'relu'))\n",
    "model_rnn.add(Dropout(0.2))\n",
    "model_rnn.add(Dense(15, activation ='sigmoid'))\n",
    "\n",
    "model_rnn.compile(loss='binary_crossentropy', optimizer='adam',metrics=['accuracy'])\n",
    "\n",
    "history = model_rnn.fit(X_train_vec, y_train,\n",
    "                        epochs=10, batch_size=500,\n",
    "                        validation_data=(X_test_vec, y_test))"
   ]
  },
  {
   "cell_type": "code",
   "execution_count": null,
   "metadata": {},
   "outputs": [],
   "source": [
    "score = model_rnn.evaluate(X_test_vec, y_test, batch_size=64, verbose = 0)\n",
    "from sklearn import metrics\n",
    "import matplotlib.pyplot as plt\n",
    "\n",
    "print('Train loss: ', history.history['loss'][9]) \n",
    "print('Train accuracy: ', history.history['acc'][9])\n",
    "\n",
    "print('Test loss: ', score[0])\n",
    "print('Test accuracy: ', score[1])"
   ]
  },
  {
   "cell_type": "markdown",
   "metadata": {},
   "source": [
    "3.2"
   ]
  },
  {
   "cell_type": "code",
   "execution_count": null,
   "metadata": {},
   "outputs": [],
   "source": [
    "model_cnn = Sequential()\n",
    "model_cnn.add(Conv1D(128, 3, activation='relu', padding = 'valid', strides=1, input_shape=(40,20)))\n",
    "model_cnn.add(GlobalMaxPooling1D())\n",
    "model_cnn.add(Dense(64))\n",
    "model_cnn.add(Dropout(0.2))\n",
    "model_cnn.add(Activation('relu'))\n",
    "model_cnn.add(Dense(15, activation ='sigmoid'))\n",
    "\n",
    "model_cnn.compile(loss='binary_crossentropy', optimizer='adam', metrics=['accuracy'])\n",
    "\n",
    "history_cnn = model_cnn.fit(X_train_vec, y_train, epochs=10, batch_size=128,\n",
    "                        validation_data=(X_test_vec, y_test))"
   ]
  },
  {
   "cell_type": "code",
   "execution_count": null,
   "metadata": {},
   "outputs": [],
   "source": [
    "score_cnn = model_cnn.evaluate(X_test_vec, y_test, batch_size=64, verbose = 0)\n",
    "\n",
    "print('Train loss: ', history_cnn.history['loss'][9]) \n",
    "print('Train accuracy: ', history_cnn.history['acc'][9])\n",
    "\n",
    "print('Test loss: ', score_cnn[0])\n",
    "print('Test accuracy: ', score_cnn[1])"
   ]
  },
  {
   "cell_type": "markdown",
   "metadata": {},
   "source": [
    "3.3"
   ]
  },
  {
   "cell_type": "code",
   "execution_count": null,
   "metadata": {},
   "outputs": [],
   "source": [
    "plt.plot(history.history['acc'], label='RNN train accuracy', color = 'r')\n",
    "plt.plot(history_cnn.history['acc'], label = 'CNN train accuracy', color = 'k')\n",
    "plt.xlabel('Epoch')\n",
    "plt.ylabel('Accuracy')\n",
    "plt.ylim([0.8, 1])\n",
    "plt.legend(loc='lower right')\n",
    "plt.title('Text Classification Accuracy RNN CNN Comparison')"
   ]
  },
  {
   "cell_type": "code",
   "execution_count": null,
   "metadata": {},
   "outputs": [],
   "source": [
    "plt.plot(history.history['loss'], label='RNN train loss', color = 'r')\n",
    "plt.plot(history_cnn.history['loss'], label = 'CNN train loss', color = 'k')\n",
    "plt.xlabel('Epoch')\n",
    "plt.ylabel('Loss')\n",
    "plt.ylim([0, 0.5])\n",
    "plt.legend(loc='lower right')\n",
    "plt.title('Text Classification Loss RNN CNN Comparison')"
   ]
  },
  {
   "cell_type": "code",
   "execution_count": null,
   "metadata": {},
   "outputs": [],
   "source": []
  }
 ],
 "metadata": {
  "kernelspec": {
   "display_name": "Python 3",
   "language": "python",
   "name": "python3"
  },
  "language_info": {
   "codemirror_mode": {
    "name": "ipython",
    "version": 3
   },
   "file_extension": ".py",
   "mimetype": "text/x-python",
   "name": "python",
   "nbconvert_exporter": "python",
   "pygments_lexer": "ipython3",
   "version": "3.7.3"
  }
 },
 "nbformat": 4,
 "nbformat_minor": 2
}
